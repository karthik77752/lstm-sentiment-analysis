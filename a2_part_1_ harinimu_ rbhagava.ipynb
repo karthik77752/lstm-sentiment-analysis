{
 "cells": [
  {
   "cell_type": "markdown",
   "id": "69451ec5",
   "metadata": {},
   "source": [
    "Load the data and create a dataframe according to the folders"
   ]
  },
  {
   "cell_type": "code",
   "execution_count": 49,
   "id": "326679fb",
   "metadata": {},
   "outputs": [],
   "source": [
    "import os\n",
    "import pandas as pd\n",
    "\n",
    "path = \"aclImdb\"\n",
    "rows = []\n",
    "for split in (\"train\", \"test\"):\n",
    "    for label in (\"pos\", \"neg\"):\n",
    "        folder = os.path.join(path, split, label)\n",
    "        for filename in os.listdir(folder):\n",
    "            if not filename.endswith(\".txt\"):\n",
    "                continue\n",
    "            file_path = os.path.join(folder, filename)\n",
    "            with open(file_path, encoding=\"utf-8\") as f:\n",
    "                review_text = f.read().strip()\n",
    "            rows.append(\n",
    "                {\n",
    "                    \"split\": split,\n",
    "                    \"sentiment\": 1 if label == \"pos\" else 0,\n",
    "                    \"review\": review_text,\n",
    "                }\n",
    "            )\n",
    "df = pd.DataFrame(rows)"
   ]
  },
  {
   "cell_type": "markdown",
   "id": "439815bb",
   "metadata": {},
   "source": [
    "The first 5 rows"
   ]
  },
  {
   "cell_type": "code",
   "execution_count": 50,
   "id": "1f606eb7",
   "metadata": {},
   "outputs": [
    {
     "data": {
      "text/html": [
       "<div>\n",
       "<style scoped>\n",
       "    .dataframe tbody tr th:only-of-type {\n",
       "        vertical-align: middle;\n",
       "    }\n",
       "\n",
       "    .dataframe tbody tr th {\n",
       "        vertical-align: top;\n",
       "    }\n",
       "\n",
       "    .dataframe thead th {\n",
       "        text-align: right;\n",
       "    }\n",
       "</style>\n",
       "<table border=\"1\" class=\"dataframe\">\n",
       "  <thead>\n",
       "    <tr style=\"text-align: right;\">\n",
       "      <th></th>\n",
       "      <th>split</th>\n",
       "      <th>sentiment</th>\n",
       "      <th>review</th>\n",
       "    </tr>\n",
       "  </thead>\n",
       "  <tbody>\n",
       "    <tr>\n",
       "      <th>0</th>\n",
       "      <td>train</td>\n",
       "      <td>1</td>\n",
       "      <td>For a movie that gets no respect there sure ar...</td>\n",
       "    </tr>\n",
       "    <tr>\n",
       "      <th>1</th>\n",
       "      <td>train</td>\n",
       "      <td>1</td>\n",
       "      <td>Bizarre horror movie filled with famous faces ...</td>\n",
       "    </tr>\n",
       "    <tr>\n",
       "      <th>2</th>\n",
       "      <td>train</td>\n",
       "      <td>1</td>\n",
       "      <td>A solid, if unremarkable film. Matthau, as Ein...</td>\n",
       "    </tr>\n",
       "    <tr>\n",
       "      <th>3</th>\n",
       "      <td>train</td>\n",
       "      <td>1</td>\n",
       "      <td>It's a strange feeling to sit alone in a theat...</td>\n",
       "    </tr>\n",
       "    <tr>\n",
       "      <th>4</th>\n",
       "      <td>train</td>\n",
       "      <td>1</td>\n",
       "      <td>You probably all already know this by now, but...</td>\n",
       "    </tr>\n",
       "  </tbody>\n",
       "</table>\n",
       "</div>"
      ],
      "text/plain": [
       "   split  sentiment                                             review\n",
       "0  train          1  For a movie that gets no respect there sure ar...\n",
       "1  train          1  Bizarre horror movie filled with famous faces ...\n",
       "2  train          1  A solid, if unremarkable film. Matthau, as Ein...\n",
       "3  train          1  It's a strange feeling to sit alone in a theat...\n",
       "4  train          1  You probably all already know this by now, but..."
      ]
     },
     "metadata": {},
     "output_type": "display_data"
    }
   ],
   "source": [
    "display(df.head())"
   ]
  },
  {
   "cell_type": "markdown",
   "id": "77817b79",
   "metadata": {},
   "source": [
    "Basic counts"
   ]
  },
  {
   "cell_type": "code",
   "execution_count": 51,
   "id": "48594de0",
   "metadata": {},
   "outputs": [
    {
     "data": {
      "text/plain": [
       "split\n",
       "train    25000\n",
       "test     25000\n",
       "Name: count, dtype: int64"
      ]
     },
     "execution_count": 51,
     "metadata": {},
     "output_type": "execute_result"
    }
   ],
   "source": [
    "df[\"split\"].value_counts()"
   ]
  },
  {
   "cell_type": "code",
   "execution_count": 52,
   "id": "2e9ceca1",
   "metadata": {},
   "outputs": [
    {
     "data": {
      "text/plain": [
       "sentiment\n",
       "1    25000\n",
       "0    25000\n",
       "Name: count, dtype: int64"
      ]
     },
     "execution_count": 52,
     "metadata": {},
     "output_type": "execute_result"
    }
   ],
   "source": [
    "df[\"sentiment\"].value_counts()"
   ]
  },
  {
   "cell_type": "markdown",
   "id": "40cb7f38",
   "metadata": {},
   "source": [
    "Lets look at the word count"
   ]
  },
  {
   "cell_type": "code",
   "execution_count": 53,
   "id": "dc20fb68",
   "metadata": {},
   "outputs": [
    {
     "data": {
      "text/plain": [
       "count    50000.000000\n",
       "mean       231.156940\n",
       "std        171.343997\n",
       "min          4.000000\n",
       "50%        173.000000\n",
       "90%        451.000000\n",
       "95%        590.000000\n",
       "max       2470.000000\n",
       "Name: word_count, dtype: float64"
      ]
     },
     "execution_count": 53,
     "metadata": {},
     "output_type": "execute_result"
    }
   ],
   "source": [
    "df[\"word_count\"] = df[\"review\"].str.split().apply(len)\n",
    "df[\"word_count\"].describe(percentiles=[0.5, 0.9, 0.95])"
   ]
  },
  {
   "cell_type": "markdown",
   "id": "a4b3f5c5",
   "metadata": {},
   "source": [
    "Vocabulary size"
   ]
  },
  {
   "cell_type": "code",
   "execution_count": 54,
   "id": "a7dd9764",
   "metadata": {},
   "outputs": [
    {
     "data": {
      "text/plain": [
       "390931"
      ]
     },
     "execution_count": 54,
     "metadata": {},
     "output_type": "execute_result"
    }
   ],
   "source": [
    "vocab = set()\n",
    "for text in df[\"review\"]:\n",
    "    for word in text.split():\n",
    "        vocab.add(word.lower())\n",
    "vocab_size = len(vocab)\n",
    "vocab_size"
   ]
  },
  {
   "cell_type": "code",
   "execution_count": 55,
   "id": "7ad3ec2c",
   "metadata": {},
   "outputs": [
    {
     "name": "stdout",
     "output_type": "stream",
     "text": [
      "    0 (negative): 25000  (50.00 %)\n",
      "    1 (positive): 25000  (50.00 %)\n"
     ]
    }
   ],
   "source": [
    "for lbl, cnt in df[\"sentiment\"].value_counts().sort_index().items():\n",
    "    pct = (df[\"sentiment\"].value_counts().sort_index() / len(df) * 100)[lbl]\n",
    "    lbl_name = \"positive\" if lbl == 1 else \"negative\"\n",
    "    print(f\"    {lbl} ({lbl_name}): {cnt}  ({pct:.2f} %)\")\n"
   ]
  },
  {
   "cell_type": "markdown",
   "id": "fc19acb4",
   "metadata": {},
   "source": [
    "## Visualizations"
   ]
  },
  {
   "cell_type": "markdown",
   "id": "0a21a135",
   "metadata": {},
   "source": [
    "Class balance bar chart"
   ]
  },
  {
   "cell_type": "code",
   "execution_count": 56,
   "id": "2ef07c95",
   "metadata": {},
   "outputs": [
    {
     "data": {
      "image/png": "[encoded data removed]",
      "text/plain": [
       "<Figure size 400x300 with 1 Axes>"
      ]
     },
     "metadata": {},
     "output_type": "display_data"
    }
   ],
   "source": [
    "import matplotlib.pyplot as plt\n",
    "\n",
    "plt.figure(figsize=(4, 3))           # small, notebook-friendly\n",
    "df[\"sentiment\"].value_counts().sort_index().plot(\n",
    "    kind=\"bar\",\n",
    "    rot=0,\n",
    "    title=\"Sentiment class counts (0 = neg, 1 = pos)\"\n",
    ")\n",
    "plt.xlabel(\"Sentiment label\")\n",
    "plt.ylabel(\"Number of reviews\")\n",
    "plt.tight_layout()\n",
    "plt.show()\n"
   ]
  },
  {
   "cell_type": "markdown",
   "id": "02729fbb",
   "metadata": {},
   "source": [
    "Histogram of review lengths"
   ]
  },
  {
   "cell_type": "code",
   "execution_count": 57,
   "id": "c68833bf",
   "metadata": {},
   "outputs": [
    {
     "data": {
      "image/png": "[encoded data removed]",
      "text/plain": [
       "<Figure size 500x300 with 1 Axes>"
      ]
     },
     "metadata": {},
     "output_type": "display_data"
    }
   ],
   "source": [
    "plt.figure(figsize=(5, 3))\n",
    "plt.hist(df[\"word_count\"], bins=50)\n",
    "plt.title(\"Histogram of review word counts\")\n",
    "plt.xlabel(\"Words per review\")\n",
    "plt.ylabel(\"Frequency\")\n",
    "plt.tight_layout()\n",
    "plt.show()"
   ]
  },
  {
   "cell_type": "markdown",
   "id": "557ff581",
   "metadata": {},
   "source": [
    "95th percentile length"
   ]
  },
  {
   "cell_type": "code",
   "execution_count": 58,
   "id": "09dfb683",
   "metadata": {},
   "outputs": [
    {
     "data": {
      "text/plain": [
       "590"
      ]
     },
     "execution_count": 58,
     "metadata": {},
     "output_type": "execute_result"
    }
   ],
   "source": [
    "import numpy as np\n",
    "\n",
    "p95_length = int(np.percentile(df[\"word_count\"], 95))\n",
    "p95_length"
   ]
  },
  {
   "cell_type": "markdown",
   "id": "0ded0b40",
   "metadata": {},
   "source": [
    "The Large Movie Review dataset has 50,000 text reviews pulled from IMDb. Every review is already tagged as positive (1) or negative (0), and the split is an even 25,000 for training and 25,000 for testing so there’s no overlap between movies. It’s a standard, beginner-friendly dataset for sentiment analysis."
   ]
  },
  {
   "cell_type": "markdown",
   "id": "de0bb497",
   "metadata": {},
   "source": [
    "This dataset has no missing values"
   ]
  },
  {
   "cell_type": "markdown",
   "id": "5c6e7830",
   "metadata": {},
   "source": [
    "### Tokenisation"
   ]
  },
  {
   "cell_type": "code",
   "execution_count": 59,
   "id": "7349e9a8",
   "metadata": {},
   "outputs": [],
   "source": [
    "import torch, time\n",
    "from torchtext.data.utils import get_tokenizer\n",
    "from torchtext.vocab import build_vocab_from_iterator\n",
    "from torchtext.vocab import Vocab\n",
    "from torch.nn.utils.rnn import pad_sequence\n",
    "from collections import Counter\n",
    "\n",
    "\n",
    "train_texts = df[df[\"split\"] == \"train\"][\"review\"].tolist()\n",
    "tokenisers = {\n",
    "    \"whitespace\": lambda txt: txt.lower().split(),\n",
    "    \"basic_english\": get_tokenizer(\"basic_english\"),   \n",
    "}\n",
    "\n",
    "max_vocab = 20_000\n",
    "x  = [\"<pad>\", \"<unk>\"]\n",
    "results   = {}\n",
    "\n",
    "for name, tok_fn in tokenisers.items():\n",
    "    t0 = time.time()\n",
    "    train_tokens = [tok_fn(t) for t in train_texts]\n",
    "    counter = Counter()\n",
    "    for toks in train_tokens:\n",
    "        counter.update(toks)\n",
    "    vocab = Vocab(counter,\n",
    "                  max_size = max_vocab - len(x),\n",
    "                  specials = x,\n",
    "                  min_freq = 1)\n",
    "    results[name] = {\n",
    "        \"tok_fn\": tok_fn,\n",
    "        \"vocab\": vocab,\n",
    "        \"vocab_size\": len(vocab),\n",
    "        \"build_sec\": time.time() - t0,\n",
    "    }\n"
   ]
  },
  {
   "cell_type": "markdown",
   "id": "e6299fda",
   "metadata": {},
   "source": [
    "Used only 20,000 vocab just to make the computation faster and to make it feasible for my GPU. So I used the most common 20,000"
   ]
  },
  {
   "cell_type": "code",
   "execution_count": 60,
   "id": "79bd23a8",
   "metadata": {},
   "outputs": [
    {
     "name": "stdout",
     "output_type": "stream",
     "text": [
      "whitespace    | vocab 20000 | build 0.79s\n",
      "basic_english | vocab 20000 | build 1.51s\n"
     ]
    }
   ],
   "source": [
    "for n, r in results.items():\n",
    "    print(f\"{n:13s} | vocab {r['vocab_size']:5d} | build {r['build_sec']:.2f}s\")"
   ]
  },
  {
   "cell_type": "markdown",
   "id": "88f7d39f",
   "metadata": {},
   "source": [
    "Basic English tokenizer has chosen"
   ]
  },
  {
   "cell_type": "code",
   "execution_count": 61,
   "id": "b6e59ac9",
   "metadata": {},
   "outputs": [],
   "source": [
    "chosen   = \"basic_english\"\n",
    "tok_fn   = results[chosen][\"tok_fn\"]\n",
    "vocab    = results[chosen][\"vocab\"]\n",
    "pad_idx  = vocab.stoi[\"<pad>\"]\n",
    "unk_idx  = vocab.stoi[\"<unk>\"]"
   ]
  },
  {
   "cell_type": "code",
   "execution_count": 62,
   "id": "2d3cdcc7",
   "metadata": {},
   "outputs": [],
   "source": [
    "def text_to_tensor(text):\n",
    "    return torch.tensor([vocab.stoi.get(tok, unk_idx) for tok in tok_fn(text)],dtype=torch.long)\n",
    "all_sequences = [text_to_tensor(t) for t in df[\"review\"]]\n"
   ]
  },
  {
   "cell_type": "code",
   "execution_count": 63,
   "id": "4ff3bc7a",
   "metadata": {},
   "outputs": [
    {
     "data": {
      "text/plain": [
       "692"
      ]
     },
     "execution_count": 63,
     "metadata": {},
     "output_type": "execute_result"
    }
   ],
   "source": [
    "train_lengths = torch.tensor([len(s) for s in all_sequences[: len(train_texts)]])\n",
    "max_len = int(torch.quantile(train_lengths.float(), 0.95).item())\n",
    "max_len"
   ]
  },
  {
   "cell_type": "markdown",
   "id": "7c6d6e19",
   "metadata": {},
   "source": [
    "Padding"
   ]
  },
  {
   "cell_type": "code",
   "execution_count": 64,
   "id": "997a9de7",
   "metadata": {},
   "outputs": [],
   "source": [
    "def pad_or_trunc(seq):\n",
    "    if len(seq) > max_len:\n",
    "        return seq[:max_len]\n",
    "    return torch.cat([seq, torch.full((max_len - len(seq),), pad_idx)])\n",
    "\n",
    "padded = pad_sequence([pad_or_trunc(s) for s in all_sequences],\n",
    "                      batch_first=True, padding_value=pad_idx)\n",
    "labels = torch.tensor(df[\"sentiment\"].values, dtype=torch.long)"
   ]
  },
  {
   "cell_type": "markdown",
   "id": "592f58d5",
   "metadata": {},
   "source": [
    "Test and Train Split"
   ]
  },
  {
   "cell_type": "code",
   "execution_count": 65,
   "id": "1f56cf48",
   "metadata": {},
   "outputs": [],
   "source": [
    "from sklearn.model_selection import train_test_split\n",
    "\n",
    "train_mask = df[\"split\"] == \"train\"\n",
    "test_mask  = df[\"split\"] == \"test\"\n",
    "X_train_full = padded[train_mask.values]\n",
    "y_train_full = labels[train_mask.values]\n",
    "X_test       = padded[test_mask.values]\n",
    "y_test       = labels[test_mask.values]\n",
    "X_train, X_val, y_train, y_val = train_test_split(\n",
    "    X_train_full, y_train_full,\n",
    "    test_size  = 0.15,\n",
    "    random_state = 42,\n",
    "    stratify = y_train_full.numpy()\n",
    ")"
   ]
  },
  {
   "cell_type": "code",
   "execution_count": 66,
   "id": "c8674786",
   "metadata": {},
   "outputs": [
    {
     "data": {
      "text/plain": [
       "torch.Size([21250, 692])"
      ]
     },
     "execution_count": 66,
     "metadata": {},
     "output_type": "execute_result"
    }
   ],
   "source": [
    "X_train.shape"
   ]
  },
  {
   "cell_type": "code",
   "execution_count": 67,
   "id": "babde06b",
   "metadata": {},
   "outputs": [
    {
     "data": {
      "text/plain": [
       "torch.Size([21250])"
      ]
     },
     "execution_count": 67,
     "metadata": {},
     "output_type": "execute_result"
    }
   ],
   "source": [
    "y_train.shape"
   ]
  },
  {
   "cell_type": "code",
   "execution_count": 68,
   "id": "30295b31",
   "metadata": {},
   "outputs": [
    {
     "data": {
      "text/plain": [
       "torch.Size([3750, 692])"
      ]
     },
     "execution_count": 68,
     "metadata": {},
     "output_type": "execute_result"
    }
   ],
   "source": [
    "X_val.shape"
   ]
  },
  {
   "cell_type": "code",
   "execution_count": 69,
   "id": "ad8a7804",
   "metadata": {},
   "outputs": [
    {
     "data": {
      "text/plain": [
       "torch.Size([3750])"
      ]
     },
     "execution_count": 69,
     "metadata": {},
     "output_type": "execute_result"
    }
   ],
   "source": [
    "y_val.shape"
   ]
  },
  {
   "cell_type": "code",
   "execution_count": 70,
   "id": "1b10b13b",
   "metadata": {},
   "outputs": [
    {
     "data": {
      "text/plain": [
       "torch.Size([25000, 692])"
      ]
     },
     "execution_count": 70,
     "metadata": {},
     "output_type": "execute_result"
    }
   ],
   "source": [
    "X_test.shape"
   ]
  },
  {
   "cell_type": "code",
   "execution_count": 71,
   "id": "10fdd85b",
   "metadata": {},
   "outputs": [
    {
     "data": {
      "text/plain": [
       "torch.Size([25000])"
      ]
     },
     "execution_count": 71,
     "metadata": {},
     "output_type": "execute_result"
    }
   ],
   "source": [
    "y_test.shape"
   ]
  },
  {
   "cell_type": "markdown",
   "id": "5d151da9",
   "metadata": {},
   "source": [
    "## Base LSTM"
   ]
  },
  {
   "cell_type": "code",
   "execution_count": 92,
   "id": "31cfbc1e",
   "metadata": {},
   "outputs": [],
   "source": [
    "import torch.nn as nn\n",
    "from torchinfo import summary\n",
    "\n",
    "class SentimentLSTM(nn.Module):\n",
    "    def __init__(\n",
    "        self,\n",
    "        vocab_size: int,\n",
    "        embed_dim: int  = 64,    \n",
    "        hidden_dim: int = 128,\n",
    "        num_layers: int = 3,\n",
    "        dropout_p: float = 0.3,\n",
    "        pad_idx: int = 0,\n",
    "    ):\n",
    "        super().__init__()\n",
    "        self.embedding = nn.Embedding(vocab_size, embed_dim, padding_idx=pad_idx)\n",
    "        self.lstm      = nn.LSTM(embed_dim, hidden_dim, num_layers,\n",
    "                                 batch_first=True, dropout=dropout_p)\n",
    "        self.fc  = nn.Linear(hidden_dim, 1)\n",
    "        self.act = nn.Sigmoid()\n",
    "    def forward(self, x):\n",
    "        _, (h, _) = self.lstm(self.embedding(x))\n",
    "        return self.act(self.fc(h[-1])).squeeze(1)\n",
    "\n"
   ]
  },
  {
   "cell_type": "code",
   "execution_count": 94,
   "id": "faab8722",
   "metadata": {},
   "outputs": [
    {
     "data": {
      "text/plain": [
       "==========================================================================================\n",
       "Layer (type:depth-idx)                   Output Shape              Param #\n",
       "==========================================================================================\n",
       "SentimentLSTM                            [32]                      --\n",
       "├─Embedding: 1-1                         [32, 692, 64]             25,019,584\n",
       "├─LSTM: 1-2                              [32, 692, 128]            363,520\n",
       "├─Linear: 1-3                            [32, 1]                   129\n",
       "├─Sigmoid: 1-4                           [32, 1]                   --\n",
       "==========================================================================================\n",
       "Total params: 25,383,233\n",
       "Trainable params: 25,383,233\n",
       "Non-trainable params: 0\n",
       "Total mult-adds (Units.GIGABYTES): 8.85\n",
       "==========================================================================================\n",
       "Input size (MB): 0.18\n",
       "Forward/backward pass size (MB): 34.01\n",
       "Params size (MB): 101.53\n",
       "Estimated Total Size (MB): 135.72\n",
       "=========================================================================================="
      ]
     },
     "execution_count": 94,
     "metadata": {},
     "output_type": "execute_result"
    }
   ],
   "source": [
    "model = SentimentLSTM(vocab_size=vocab_size, pad_idx=pad_idx).to(device)\n",
    "summary(model, input_size=(32, X_train.size(1)), dtypes=[torch.long])"
   ]
  },
  {
   "cell_type": "code",
   "execution_count": 95,
   "id": "8d6bbc59",
   "metadata": {},
   "outputs": [],
   "source": [
    "import torch.nn as nn, torch.optim as optim\n",
    "from torch.utils.data import TensorDataset, DataLoader\n",
    "from sklearn.metrics import accuracy_score\n",
    "from copy import deepcopy\n",
    "\n",
    "device = \"cuda\" if torch.cuda.is_available() else \"cpu\"\n",
    "train_ds = TensorDataset(X_train, y_train)\n",
    "val_ds   = TensorDataset(X_val,   y_val)\n",
    "train_loader = DataLoader(train_ds, batch_size=128, shuffle=True)\n",
    "val_loader   = DataLoader(val_ds,   batch_size=128, shuffle=False)\n",
    "\n",
    "def run_epoch(model, loader, criterion, opt=None):\n",
    "    model.train(opt is not None)\n",
    "    tot, truth, pred = 0.0, [], []\n",
    "    for xb, yb in loader:\n",
    "        xb, yb = xb.to(device), yb.float().to(device)\n",
    "        out = model(xb)\n",
    "        loss = criterion(out, yb)\n",
    "        if opt:\n",
    "            opt.zero_grad(); loss.backward(); opt.step()\n",
    "        tot += loss.item() * len(xb)\n",
    "        truth.extend(yb.cpu().numpy()); pred.extend((out > 0.5).cpu().numpy())\n",
    "    return tot / len(loader.dataset), accuracy_score(truth, pred)\n"
   ]
  },
  {
   "cell_type": "markdown",
   "id": "9e6e1e09",
   "metadata": {},
   "source": [
    "Automating the grid is taking a lot of time so i have chosen my own one"
   ]
  },
  {
   "cell_type": "code",
   "execution_count": 96,
   "id": "4597efee",
   "metadata": {},
   "outputs": [],
   "source": [
    "#random.seed(0)\n",
    "#    (\n",
    "#        random.choice([64, 100]),        \n",
    "#        random.choice([128, 192]),       \n",
    "#        random.choice([0.3, 0.5]),       \n",
    "#        10 ** random.uniform(-3.8, -3),  \n",
    "#    )\n"
   ]
  },
  {
   "cell_type": "code",
   "execution_count": 99,
   "id": "6a54b59a",
   "metadata": {},
   "outputs": [],
   "source": [
    "train_loss, val_loss, train_acc, val_acc = [], [], [], []\n",
    "criterion = nn.BCELoss()\n",
    "opt       = optim.Adam(model.parameters(), lr=1e-3)\n"
   ]
  },
  {
   "cell_type": "code",
   "execution_count": 100,
   "id": "cf1126a3",
   "metadata": {},
   "outputs": [
    {
     "name": "stdout",
     "output_type": "stream",
     "text": [
      "epoch 1/2  train_loss=0.6933 val_loss=0.6933  train_acc=0.500 val_acc=0.500\n",
      "epoch 2/2  train_loss=0.6930 val_loss=0.6929  train_acc=0.507 val_acc=0.501\n"
     ]
    }
   ],
   "source": [
    "for ep in range(1, 3):                      # just 2 epochs\n",
    "    tl, ta = run_epoch(model, train_loader, criterion, opt)\n",
    "    vl, va = run_epoch(model, val_loader,   criterion)\n",
    "    train_loss.append(tl); val_loss.append(vl)\n",
    "    train_acc.append(ta);  val_acc.append(va)\n",
    "    print(f\"epoch {ep}/2  \"\n",
    "          f\"train_loss={tl:.4f} val_loss={vl:.4f}  \"\n",
    "          f\"train_acc={ta:.3f} val_acc={va:.3f}\")"
   ]
  },
  {
   "cell_type": "code",
   "execution_count": 101,
   "id": "fe97b271",
   "metadata": {},
   "outputs": [],
   "source": [
    "torch.save({\"state_dict\": model.state_dict(),\n",
    "            \"config\": dict(embed_dim=64, hidden_dim=128, dropout=0.3, lr=1e-3)},\n",
    "           \"base_lstm.pt\")"
   ]
  },
  {
   "cell_type": "markdown",
   "id": "4d48c6fd",
   "metadata": {},
   "source": [
    "Calculating Test Acc"
   ]
  },
  {
   "cell_type": "code",
   "execution_count": 104,
   "id": "dd60dfe1",
   "metadata": {},
   "outputs": [
    {
     "name": "stdout",
     "output_type": "stream",
     "text": [
      "test accuracy: 0.500\n"
     ]
    }
   ],
   "source": [
    "ckpt = torch.load(\"base_lstm.pt\", map_location=device)\n",
    "cfg  = ckpt[\"config\"]\n",
    "model = SentimentLSTM(\n",
    "    vocab_size = vocab_size,\n",
    "    embed_dim  = cfg[\"embed_dim\"],\n",
    "    hidden_dim = cfg[\"hidden_dim\"],\n",
    "    dropout_p  = cfg.get(\"dropout\", 0.3),\n",
    "    pad_idx    = pad_idx,\n",
    ").to(device)\n",
    "model.load_state_dict(ckpt[\"state_dict\"])\n",
    "model.eval()\n",
    "test_loader = DataLoader(\n",
    "    TensorDataset(X_test, y_test),\n",
    "    batch_size = 128,\n",
    "    shuffle    = False,\n",
    ")\n",
    "y_true, y_pred = [], []\n",
    "with torch.no_grad():\n",
    "    for xb, yb in test_loader:\n",
    "        xb = xb.to(device)\n",
    "        out = model(xb)                 \n",
    "        preds = (out.cpu() > 0.5).int() \n",
    "        y_true.extend(yb.numpy())\n",
    "        y_pred.extend(preds.numpy())\n",
    "test_acc = accuracy_score(y_true, y_pred)\n",
    "print(f\"test accuracy: {test_acc:.3f}\")"
   ]
  },
  {
   "cell_type": "markdown",
   "id": "c86d39ba",
   "metadata": {},
   "source": [
    "### Plots"
   ]
  },
  {
   "cell_type": "code",
   "execution_count": 105,
   "id": "ce2109fa",
   "metadata": {},
   "outputs": [
    {
     "data": {
      "image/png": "[encoded data removed]",
      "text/plain": [
       "<Figure size 400x300 with 1 Axes>"
      ]
     },
     "metadata": {},
     "output_type": "display_data"
    },
    {
     "data": {
      "image/png": "[encoded data removed]",
      "text/plain": [
       "<Figure size 400x300 with 1 Axes>"
      ]
     },
     "metadata": {},
     "output_type": "display_data"
    }
   ],
   "source": [
    "plt.figure(figsize=(4,3)); plt.plot(train_loss,label=\"train\"); plt.plot(val_loss,label=\"val\")\n",
    "plt.title(\"loss\"); plt.xlabel(\"epoch\"); plt.ylabel(\"bce\"); plt.legend(); plt.tight_layout(); plt.show()\n",
    "\n",
    "plt.figure(figsize=(4,3)); plt.plot(train_acc,label=\"train\"); plt.plot(val_acc,label=\"val\")\n",
    "plt.title(\"accuracy\"); plt.xlabel(\"epoch\"); plt.ylabel(\"acc\"); plt.legend(); plt.tight_layout(); plt.show()"
   ]
  },
  {
   "cell_type": "markdown",
   "id": "5f212f9d",
   "metadata": {},
   "source": [
    "Confusion Matrix"
   ]
  },
  {
   "cell_type": "code",
   "execution_count": 108,
   "id": "9cb8a55d",
   "metadata": {},
   "outputs": [
    {
     "data": {
      "image/png": "[encoded data removed]",
      "text/plain": [
       "<Figure size 400x300 with 2 Axes>"
      ]
     },
     "metadata": {},
     "output_type": "display_data"
    }
   ],
   "source": [
    "from sklearn.metrics import precision_recall_fscore_support, confusion_matrix\n",
    "import seaborn as sns\n",
    "\n",
    "cm = confusion_matrix(y_true, y_pred)\n",
    "plt.figure(figsize=(4, 3))\n",
    "sns.heatmap(cm, annot=True, fmt=\"d\", cmap=\"Blues\",\n",
    "            xticklabels=[\"neg\", \"pos\"],\n",
    "            yticklabels=[\"neg\", \"pos\"])\n",
    "plt.xlabel(\"predicted\"); plt.ylabel(\"actual\"); plt.title(\"confusion matrix\")\n",
    "plt.tight_layout(); plt.show()"
   ]
  },
  {
   "cell_type": "markdown",
   "id": "97d1c99c",
   "metadata": {},
   "source": [
    "the network is still at random guess stage, with only 2 epochs and a small hidden size, the model  hasn’t had or capacity to learn. \n",
    "\n",
    "With greater computer power and tweaking some parameters I can do better with Base model also."
   ]
  },
  {
   "cell_type": "markdown",
   "id": "061dc012",
   "metadata": {},
   "source": [
    "### Improved LSTM"
   ]
  },
  {
   "cell_type": "code",
   "execution_count": 123,
   "id": "8a8b8b7f",
   "metadata": {},
   "outputs": [],
   "source": [
    "from torchtext.vocab import Vectors \n",
    "max_len_fast = 200                      \n",
    "def trim(tensor):\n",
    "    return tensor[:, :max_len_fast] if tensor.size(1) > max_len_fast else tensor\n",
    "x_train, x_val, x_test = trim(X_train), trim(X_val), trim(X_test)\n",
    "vocab_obj = vocab \n",
    "vecs = Vectors(\"glove.6B.100d.txt\", cache=\".\")\n",
    "embed_dim = 100\n",
    "embed_mat = torch.randn(len(vocab), embed_dim) * 0.05\n",
    "for tok, idx in vocab.stoi.items():\n",
    "    if tok in vecs.stoi:\n",
    "        embed_mat[idx] = vecs[tok]"
   ]
  },
  {
   "cell_type": "code",
   "execution_count": 124,
   "id": "14eaa3b4",
   "metadata": {},
   "outputs": [],
   "source": [
    "class ImpLSTM(nn.Module):\n",
    "    def __init__(self, weights, hidden_dim=128, dropout_p=0.3, pad_idx=0):\n",
    "        super().__init__()\n",
    "        n_tok, emb_dim = weights.shape\n",
    "        self.embedding = nn.Embedding(n_tok, emb_dim, padding_idx=pad_idx)\n",
    "        self.embedding.weight.data.copy_(weights)\n",
    "        self.embedding.weight.requires_grad = False          \n",
    "\n",
    "        self.gru = nn.GRU(\n",
    "            emb_dim, hidden_dim, num_layers=1,\n",
    "            batch_first=True, bidirectional=True,\n",
    "        )\n",
    "        self.dropout = nn.Dropout(dropout_p)\n",
    "        self.fc  = nn.Linear(hidden_dim * 2, 1)\n",
    "        self.act = nn.Sigmoid()\n",
    "\n",
    "    def forward(self, x):\n",
    "        emb   = self.embedding(x)\n",
    "        _, h  = self.gru(emb)              \n",
    "        hx    = torch.cat([h[0], h[1]], 1) \n",
    "        return self.act(self.fc(self.dropout(hx))).squeeze(1)"
   ]
  },
  {
   "cell_type": "code",
   "execution_count": 126,
   "id": "10d215d3",
   "metadata": {},
   "outputs": [],
   "source": [
    "model = ImpLSTM(embed_mat, hidden_dim=128, dropout_p=0.3, pad_idx=pad_idx).to(device)\n",
    "train_loader = DataLoader(TensorDataset(x_train, y_train), 128, shuffle=True)\n",
    "val_loader   = DataLoader(TensorDataset(x_val,   y_val),   128, shuffle=False)\n",
    "test_loader  = DataLoader(TensorDataset(x_test,  y_test),  128, shuffle=False)\n",
    "crit = nn.BCELoss()\n",
    "opt  = optim.Adam(model.parameters(), lr=1e-3, weight_decay=1e-5)\n",
    "scheduler = optim.lr_scheduler.ReduceLROnPlateau(opt, factor=0.5, patience=1)\n",
    "best_acc, best_state = 0.0, None"
   ]
  },
  {
   "cell_type": "code",
   "execution_count": 127,
   "id": "809774f0",
   "metadata": {},
   "outputs": [
    {
     "name": "stdout",
     "output_type": "stream",
     "text": [
      "epoch 1/3   val_acc=0.712\n",
      "epoch 2/3   val_acc=0.803\n",
      "epoch 3/3   val_acc=0.815\n"
     ]
    }
   ],
   "source": [
    "for ep in range(1, 4):\n",
    "    model.train()\n",
    "    for xb, yb in train_loader:\n",
    "        xb, yb = xb.to(device), yb.float().to(device)\n",
    "        opt.zero_grad(); loss = crit(model(xb), yb); loss.backward(); opt.step()\n",
    "    model.eval(); true, pred = [], []\n",
    "    with torch.no_grad():\n",
    "        for xb, yb in val_loader:\n",
    "            xb = xb.to(device)\n",
    "            pred.extend((model(xb) > 0.5).cpu().numpy())\n",
    "            true.extend(yb.numpy())\n",
    "    val_acc = accuracy_score(true, pred)\n",
    "    scheduler.step(1 - val_acc)\n",
    "    print(f\"epoch {ep}/3   val_acc={val_acc:.3f}\")\n",
    "    if val_acc > best_acc:\n",
    "        best_acc = val_acc\n",
    "        best_state = model.state_dict().copy()"
   ]
  },
  {
   "cell_type": "code",
   "execution_count": 131,
   "id": "db86abe7",
   "metadata": {},
   "outputs": [
    {
     "name": "stdout",
     "output_type": "stream",
     "text": [
      "\n",
      " improved model test accuracy: 0.818\n"
     ]
    }
   ],
   "source": [
    "model.load_state_dict(best_state)\n",
    "model.eval(); true, pred = [], []\n",
    "with torch.no_grad():\n",
    "    for xb, yb in test_loader:\n",
    "        xb = xb.to(device)\n",
    "        pred.extend((model(xb) > 0.5).cpu().numpy())\n",
    "        true.extend(yb.numpy())\n",
    "test_acc = accuracy_score(true, pred)\n",
    "print(f\"\\n improved model test accuracy: {test_acc:.3f}\")"
   ]
  },
  {
   "cell_type": "code",
   "execution_count": null,
   "id": "ea2b93e1",
   "metadata": {},
   "outputs": [],
   "source": [
    "torch.save({\"state_dict\": best_state,\n",
    "            \"config\": dict(embed_dim=100, hidden_dim=128,\n",
    "                           bidirectional=True, frozen_glove=True)},\n",
    "           \"improved_LSTM.pt\")"
   ]
  },
  {
   "cell_type": "markdown",
   "id": "44e406ad",
   "metadata": {},
   "source": [
    "## Discussion"
   ]
  },
  {
   "cell_type": "markdown",
   "id": "c950eb70",
   "metadata": {},
   "source": [
    "We worked with the IMDB Large Movie Review set: 50 000 reviews, half positive, half negative. Average review length sits around 230 words, but some have past a thousand, so the model has to deal with long text."
   ]
  },
  {
   "cell_type": "markdown",
   "id": "5c6311f8",
   "metadata": {},
   "source": [
    "GloVe vectors already “know” that great ≈ excellent and awful ≈ terrible, so the model starts smart.\n",
    "\n",
    "Bidirectional GRU reads a review both forward and backward. We kept GloVe frozen, so fewer weights to learn and less chance to overfit.\n",
    "\n",
    "To mention, most of the parameters are chosen for faster computation due to my system complexities.\n",
    "\n",
    "We chopped reviews down to 200 tokens to stay fast.\n",
    "Even our tiny GRU took a couple of minutes on CPU; Transformers or CNN text hybrids can be quicker."
   ]
  },
  {
   "cell_type": "markdown",
   "id": "e5031c5e",
   "metadata": {},
   "source": [
    "The baseline flat at 50 %,  It is random guessing only.\n",
    "\n",
    "The new GRU model gave past 75% in the first epoch and at 81.8 % on the test set.\n",
    "\n",
    "Changing hidden size, dropout, or learning rate easily gave accuracy by ±15 points. Small grids helps."
   ]
  },
  {
   "cell_type": "markdown",
   "id": "4fc83462",
   "metadata": {},
   "source": [
    "### References"
   ]
  },
  {
   "cell_type": "markdown",
   "id": "7bf5be39",
   "metadata": {},
   "source": [
    "Dataset: http://ai.stanford.edu/~amaas/data/sentiment/\n",
    "GloVe vectors (6B, 100d): https://nlp.stanford.edu/projects/glove/\n",
    "Maas et al., Learning Word Vectors for Sentiment Analysis – original IMDB paper.\n",
    "PyTorch docs for nn.GRU, nn.LSTM, nn.Embedding, and torchtext.vocab.Vectors."
   ]
  }
 ],
 "metadata": {
  "kernelspec": {
   "display_name": "Python 3",
   "language": "python",
   "name": "python3"
  },
  "language_info": {
   "codemirror_mode": {
    "name": "ipython",
    "version": 3
   },
   "file_extension": ".py",
   "mimetype": "text/x-python",
   "name": "python",
   "nbconvert_exporter": "python",
   "pygments_lexer": "ipython3",
   "version": "3.13.1"
  }
 },
 "nbformat": 4,
 "nbformat_minor": 5
}
